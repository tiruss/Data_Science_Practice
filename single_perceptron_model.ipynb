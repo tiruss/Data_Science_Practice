{
 "cells": [
  {
   "cell_type": "code",
   "execution_count": 6,
   "metadata": {},
   "outputs": [],
   "source": [
    "import numpy as np\n",
    "from keras.models import Sequential\n",
    "from keras.layers import Dense\n",
    "import random"
   ]
  },
  {
   "cell_type": "code",
   "execution_count": 7,
   "metadata": {
    "collapsed": true
   },
   "outputs": [],
   "source": [
    "# 1. 데이터셋 생성하기\n",
    "x_train = np.random.random((1000, 1))\n",
    "y_train = x_train * 2 + np.random.random((1000, 1)) / 3.0\n",
    "x_test = np.random.random((100, 1))\n",
    "y_test = x_test * 2 + np.random.random((100, 1)) / 3.0"
   ]
  },
  {
   "cell_type": "code",
   "execution_count": 8,
   "metadata": {
    "collapsed": true
   },
   "outputs": [],
   "source": [
    "# 2. 모델 구성하기\n",
    "model = Sequential()\n",
    "model.add(Dense(1, input_dim=1))"
   ]
  },
  {
   "cell_type": "code",
   "execution_count": 9,
   "metadata": {
    "collapsed": true
   },
   "outputs": [],
   "source": [
    "# 3. 모델 학습과정 설정하기\n",
    "model.compile(optimizer='rmsprop', loss='mse')"
   ]
  },
  {
   "cell_type": "code",
   "execution_count": 10,
   "metadata": {},
   "outputs": [
    {
     "name": "stdout",
     "output_type": "stream",
     "text": [
      "Epoch 1/50\n",
      "1000/1000 [==============================] - 0s - loss: 0.9271     \n",
      "Epoch 2/50\n",
      "1000/1000 [==============================] - 0s - loss: 0.8752     \n",
      "Epoch 3/50\n",
      "1000/1000 [==============================] - 0s - loss: 0.8315     \n",
      "Epoch 4/50\n",
      "1000/1000 [==============================] - 0s - loss: 0.7901     \n",
      "Epoch 5/50\n",
      "1000/1000 [==============================] - 0s - loss: 0.7497     \n",
      "Epoch 6/50\n",
      "1000/1000 [==============================] - 0s - loss: 0.7108     \n",
      "Epoch 7/50\n",
      "1000/1000 [==============================] - 0s - loss: 0.6731     \n",
      "Epoch 8/50\n",
      "1000/1000 [==============================] - 0s - loss: 0.6364     \n",
      "Epoch 9/50\n",
      "1000/1000 [==============================] - 0s - loss: 0.6009     \n",
      "Epoch 10/50\n",
      "1000/1000 [==============================] - ETA: 0s - loss: 0.531 - 0s - loss: 0.5666     \n",
      "Epoch 11/50\n",
      "1000/1000 [==============================] - 0s - loss: 0.5334     \n",
      "Epoch 12/50\n",
      "1000/1000 [==============================] - 0s - loss: 0.5016     \n",
      "Epoch 13/50\n",
      "1000/1000 [==============================] - 0s - loss: 0.4710     \n",
      "Epoch 14/50\n",
      "1000/1000 [==============================] - 0s - loss: 0.4415     \n",
      "Epoch 15/50\n",
      "1000/1000 [==============================] - 0s - loss: 0.4128     \n",
      "Epoch 16/50\n",
      "1000/1000 [==============================] - 0s - loss: 0.3854     \n",
      "Epoch 17/50\n",
      "1000/1000 [==============================] - 0s - loss: 0.3595     \n",
      "Epoch 18/50\n",
      "1000/1000 [==============================] - 0s - loss: 0.3343     \n",
      "Epoch 19/50\n",
      "1000/1000 [==============================] - 0s - loss: 0.3107     \n",
      "Epoch 20/50\n",
      "1000/1000 [==============================] - 0s - loss: 0.2884     \n",
      "Epoch 21/50\n",
      "1000/1000 [==============================] - 0s - loss: 0.2666     \n",
      "Epoch 22/50\n",
      "1000/1000 [==============================] - 0s - loss: 0.2462     \n",
      "Epoch 23/50\n",
      "1000/1000 [==============================] - 0s - loss: 0.2270     \n",
      "Epoch 24/50\n",
      "1000/1000 [==============================] - 0s - loss: 0.2089     \n",
      "Epoch 25/50\n",
      "1000/1000 [==============================] - 0s - loss: 0.1921     \n",
      "Epoch 26/50\n",
      "1000/1000 [==============================] - 0s - loss: 0.1764     \n",
      "Epoch 27/50\n",
      "1000/1000 [==============================] - 0s - loss: 0.1616     \n",
      "Epoch 28/50\n",
      "1000/1000 [==============================] - 0s - loss: 0.1479     \n",
      "Epoch 29/50\n",
      "1000/1000 [==============================] - 0s - loss: 0.1353     \n",
      "Epoch 30/50\n",
      "1000/1000 [==============================] - 0s - loss: 0.1243     \n",
      "Epoch 31/50\n",
      "1000/1000 [==============================] - 0s - loss: 0.1144     \n",
      "Epoch 32/50\n",
      "1000/1000 [==============================] - 0s - loss: 0.1051     \n",
      "Epoch 33/50\n",
      "1000/1000 [==============================] - 0s - loss: 0.0971     \n",
      "Epoch 34/50\n",
      "1000/1000 [==============================] - 0s - loss: 0.0902     \n",
      "Epoch 35/50\n",
      "1000/1000 [==============================] - 0s - loss: 0.0844     \n",
      "Epoch 36/50\n",
      "1000/1000 [==============================] - 0s - loss: 0.0795     \n",
      "Epoch 37/50\n",
      "1000/1000 [==============================] - 0s - loss: 0.0755     \n",
      "Epoch 38/50\n",
      "1000/1000 [==============================] - 0s - loss: 0.0723     \n",
      "Epoch 39/50\n",
      "1000/1000 [==============================] - 0s - loss: 0.0698     \n",
      "Epoch 40/50\n",
      "1000/1000 [==============================] - 0s - loss: 0.0677     \n",
      "Epoch 41/50\n",
      "1000/1000 [==============================] - 0s - loss: 0.0656     \n",
      "Epoch 42/50\n",
      "1000/1000 [==============================] - 0s - loss: 0.0637     \n",
      "Epoch 43/50\n",
      "1000/1000 [==============================] - 0s - loss: 0.0618     \n",
      "Epoch 44/50\n",
      "1000/1000 [==============================] - 0s - loss: 0.0598     \n",
      "Epoch 45/50\n",
      "1000/1000 [==============================] - 0s - loss: 0.0579     \n",
      "Epoch 46/50\n",
      "1000/1000 [==============================] - 0s - loss: 0.0560     \n",
      "Epoch 47/50\n",
      "1000/1000 [==============================] - 0s - loss: 0.0541     \n",
      "Epoch 48/50\n",
      "1000/1000 [==============================] - 0s - loss: 0.0524     \n",
      "Epoch 49/50\n",
      "1000/1000 [==============================] - 0s - loss: 0.0506     \n",
      "Epoch 50/50\n",
      "1000/1000 [==============================] - 0s - loss: 0.0489     \n",
      "[[ 1.33851254]] [ 0.51018757]\n"
     ]
    }
   ],
   "source": [
    "# 4. 모델 학습시키기\n",
    "hist = model.fit(x_train, y_train, epochs=50, batch_size=64)\n",
    "w, b = model.get_weights()\n",
    "print(w, b)"
   ]
  },
  {
   "cell_type": "code",
   "execution_count": 11,
   "metadata": {},
   "outputs": [
    {
     "data": {
      "image/png": "[encoded data removed]",
      "text/plain": [
       "<matplotlib.figure.Figure at 0x1728be1deb8>"
      ]
     },
     "metadata": {},
     "output_type": "display_data"
    }
   ],
   "source": [
    "# 5. 학습과정 살펴보기\n",
    "%matplotlib inline\n",
    "import matplotlib.pyplot as plt\n",
    "\n",
    "plt.plot(hist.history['loss'])\n",
    "plt.ylim(0.0, 1.5)\n",
    "plt.ylabel('loss')\n",
    "plt.xlabel('epoch')\n",
    "plt.legend(['train'], loc='upper left')\n",
    "plt.show()"
   ]
  },
  {
   "cell_type": "code",
   "execution_count": 12,
   "metadata": {},
   "outputs": [
    {
     "name": "stdout",
     "output_type": "stream",
     "text": [
      " 32/100 [========>.....................] - ETA: 0sloss : 0.0539023719728\n"
     ]
    }
   ],
   "source": [
    "# 6. 모델 평가하기\n",
    "loss = model.evaluate(x_test, y_test, batch_size=32)\n",
    "print('loss : ' + str(loss))"
   ]
  }
 ],
 "metadata": {
  "kernelspec": {
   "display_name": "Python 3",
   "language": "python",
   "name": "python3"
  },
  "language_info": {
   "codemirror_mode": {
    "name": "ipython",
    "version": 3
   },
   "file_extension": ".py",
   "mimetype": "text/x-python",
   "name": "python",
   "nbconvert_exporter": "python",
   "pygments_lexer": "ipython3",
   "version": "3.6.1"
  }
 },
 "nbformat": 4,
 "nbformat_minor": 2
}
