{
 "cells": [
  {
   "cell_type": "code",
   "execution_count": 2,
   "metadata": {},
   "outputs": [
    {
     "data": {
      "text/html": [
       "<div>\n",
       "<style>\n",
       "    .dataframe thead tr:only-child th {\n",
       "        text-align: right;\n",
       "    }\n",
       "\n",
       "    .dataframe thead th {\n",
       "        text-align: left;\n",
       "    }\n",
       "\n",
       "    .dataframe tbody tr th {\n",
       "        vertical-align: top;\n",
       "    }\n",
       "</style>\n",
       "<table border=\"1\" class=\"dataframe\">\n",
       "  <thead>\n",
       "    <tr style=\"text-align: right;\">\n",
       "      <th></th>\n",
       "      <th>Sepal length</th>\n",
       "      <th>Sepal width</th>\n",
       "      <th>Petal length</th>\n",
       "      <th>Petal width</th>\n",
       "      <th>labels</th>\n",
       "    </tr>\n",
       "  </thead>\n",
       "  <tbody>\n",
       "    <tr>\n",
       "      <th>0</th>\n",
       "      <td>5.1</td>\n",
       "      <td>3.5</td>\n",
       "      <td>1.4</td>\n",
       "      <td>0.2</td>\n",
       "      <td>0</td>\n",
       "    </tr>\n",
       "    <tr>\n",
       "      <th>1</th>\n",
       "      <td>4.9</td>\n",
       "      <td>3.0</td>\n",
       "      <td>1.4</td>\n",
       "      <td>0.2</td>\n",
       "      <td>0</td>\n",
       "    </tr>\n",
       "    <tr>\n",
       "      <th>2</th>\n",
       "      <td>4.7</td>\n",
       "      <td>3.2</td>\n",
       "      <td>1.3</td>\n",
       "      <td>0.2</td>\n",
       "      <td>0</td>\n",
       "    </tr>\n",
       "    <tr>\n",
       "      <th>3</th>\n",
       "      <td>4.6</td>\n",
       "      <td>3.1</td>\n",
       "      <td>1.5</td>\n",
       "      <td>0.2</td>\n",
       "      <td>0</td>\n",
       "    </tr>\n",
       "    <tr>\n",
       "      <th>4</th>\n",
       "      <td>5.0</td>\n",
       "      <td>3.6</td>\n",
       "      <td>1.4</td>\n",
       "      <td>0.2</td>\n",
       "      <td>0</td>\n",
       "    </tr>\n",
       "  </tbody>\n",
       "</table>\n",
       "</div>"
      ],
      "text/plain": [
       "   Sepal length  Sepal width  Petal length  Petal width  labels\n",
       "0           5.1          3.5           1.4          0.2       0\n",
       "1           4.9          3.0           1.4          0.2       0\n",
       "2           4.7          3.2           1.3          0.2       0\n",
       "3           4.6          3.1           1.5          0.2       0\n",
       "4           5.0          3.6           1.4          0.2       0"
      ]
     },
     "execution_count": 2,
     "metadata": {},
     "output_type": "execute_result"
    }
   ],
   "source": [
    "from sklearn import datasets\n",
    "import pandas as pd\n",
    "iris = datasets.load_iris()\n",
    "\n",
    "labels = pd.DataFrame(iris.target)\n",
    "labels.columns=['labels']\n",
    "data = pd.DataFrame(iris.data)\n",
    "data.columns = ['Sepal length', 'Sepal width', 'Petal length', 'Petal width']\n",
    "data = pd.concat([data,labels], axis=1)\n",
    "\n",
    "data.head()"
   ]
  },
  {
   "cell_type": "code",
   "execution_count": 3,
   "metadata": {},
   "outputs": [
    {
     "data": {
      "text/html": [
       "<div>\n",
       "<style>\n",
       "    .dataframe thead tr:only-child th {\n",
       "        text-align: right;\n",
       "    }\n",
       "\n",
       "    .dataframe thead th {\n",
       "        text-align: left;\n",
       "    }\n",
       "\n",
       "    .dataframe tbody tr th {\n",
       "        vertical-align: top;\n",
       "    }\n",
       "</style>\n",
       "<table border=\"1\" class=\"dataframe\">\n",
       "  <thead>\n",
       "    <tr style=\"text-align: right;\">\n",
       "      <th></th>\n",
       "      <th>Sepal length</th>\n",
       "      <th>Sepal width</th>\n",
       "    </tr>\n",
       "  </thead>\n",
       "  <tbody>\n",
       "    <tr>\n",
       "      <th>0</th>\n",
       "      <td>5.1</td>\n",
       "      <td>3.5</td>\n",
       "    </tr>\n",
       "    <tr>\n",
       "      <th>1</th>\n",
       "      <td>4.9</td>\n",
       "      <td>3.0</td>\n",
       "    </tr>\n",
       "    <tr>\n",
       "      <th>2</th>\n",
       "      <td>4.7</td>\n",
       "      <td>3.2</td>\n",
       "    </tr>\n",
       "    <tr>\n",
       "      <th>3</th>\n",
       "      <td>4.6</td>\n",
       "      <td>3.1</td>\n",
       "    </tr>\n",
       "    <tr>\n",
       "      <th>4</th>\n",
       "      <td>5.0</td>\n",
       "      <td>3.6</td>\n",
       "    </tr>\n",
       "  </tbody>\n",
       "</table>\n",
       "</div>"
      ],
      "text/plain": [
       "   Sepal length  Sepal width\n",
       "0           5.1          3.5\n",
       "1           4.9          3.0\n",
       "2           4.7          3.2\n",
       "3           4.6          3.1\n",
       "4           5.0          3.6"
      ]
     },
     "execution_count": 3,
     "metadata": {},
     "output_type": "execute_result"
    }
   ],
   "source": [
    "feature = data[['Sepal length', 'Sepal width']]\n",
    "feature.head()"
   ]
  },
  {
   "cell_type": "code",
   "execution_count": 12,
   "metadata": {},
   "outputs": [
    {
     "name": "stdout",
     "output_type": "stream",
     "text": [
      "     Sepal length  Sepal width  predict\n",
      "0             5.1          3.5        0\n",
      "1             4.9          3.0        0\n",
      "2             4.7          3.2        0\n",
      "3             4.6          3.1        0\n",
      "4             5.0          3.6        0\n",
      "5             5.4          3.9        0\n",
      "6             4.6          3.4        0\n",
      "7             5.0          3.4        0\n",
      "8             4.4          2.9        0\n",
      "9             4.9          3.1        0\n",
      "10            5.4          3.7        0\n",
      "11            4.8          3.4        0\n",
      "12            4.8          3.0        0\n",
      "13            4.3          3.0        0\n",
      "14            5.8          4.0        0\n",
      "15            5.7          4.4        0\n",
      "16            5.4          3.9        0\n",
      "17            5.1          3.5        0\n",
      "18            5.7          3.8        0\n",
      "19            5.1          3.8        0\n",
      "20            5.4          3.4        0\n",
      "21            5.1          3.7        0\n",
      "22            4.6          3.6        0\n",
      "23            5.1          3.3        0\n",
      "24            4.8          3.4        0\n",
      "25            5.0          3.0        0\n",
      "26            5.0          3.4        0\n",
      "27            5.2          3.5        0\n",
      "28            5.2          3.4        0\n",
      "29            4.7          3.2        0\n",
      "..            ...          ...      ...\n",
      "120           6.9          3.2        1\n",
      "121           5.6          2.8        2\n",
      "122           7.7          2.8        1\n",
      "123           6.3          2.7        2\n",
      "124           6.7          3.3        1\n",
      "125           7.2          3.2        1\n",
      "126           6.2          2.8        2\n",
      "127           6.1          3.0        2\n",
      "128           6.4          2.8        1\n",
      "129           7.2          3.0        1\n",
      "130           7.4          2.8        1\n",
      "131           7.9          3.8        1\n",
      "132           6.4          2.8        1\n",
      "133           6.3          2.8        2\n",
      "134           6.1          2.6        2\n",
      "135           7.7          3.0        1\n",
      "136           6.3          3.4        1\n",
      "137           6.4          3.1        1\n",
      "138           6.0          3.0        2\n",
      "139           6.9          3.1        1\n",
      "140           6.7          3.1        1\n",
      "141           6.9          3.1        1\n",
      "142           5.8          2.7        2\n",
      "143           6.8          3.2        1\n",
      "144           6.7          3.3        1\n",
      "145           6.7          3.0        1\n",
      "146           6.3          2.5        2\n",
      "147           6.5          3.0        1\n",
      "148           6.2          3.4        1\n",
      "149           5.9          3.0        2\n",
      "\n",
      "[150 rows x 3 columns]\n"
     ]
    }
   ],
   "source": [
    "from sklearn.cluster import KMeans\n",
    "import matplotlib.pyplot as plt\n",
    "import seaborn as sns\n",
    "\n",
    "model = KMeans(n_clusters=3, algorithm='auto')\n",
    "model.fit(feature)\n",
    "predict = pd.DataFrame(model.predict(feature))\n",
    "predict.columns=['predict']\n",
    "\n",
    "r = pd.concat([feature, predict], axis=1)\n",
    "\n",
    "print(r)"
   ]
  },
  {
   "cell_type": "code",
   "execution_count": 18,
   "metadata": {},
   "outputs": [
    {
     "data": {
      "image/png": "[encoded data removed]",
      "text/plain": [
       "<matplotlib.figure.Figure at 0x18f47ec9f28>"
      ]
     },
     "metadata": {},
     "output_type": "display_data"
    }
   ],
   "source": [
    "centers = pd.DataFrame(model.cluster_centers_,columns=['Sepal length','Sepal width'])\n",
    "center_x = centers['Sepal length']\n",
    "center_y = centers['Sepal width']\n",
    "\n",
    "# scatter plot\n",
    "plt.scatter(r['Sepal length'],r['Sepal width'],c=r['predict'],alpha=0.5)\n",
    "plt.scatter(center_x,center_y,s=50,marker='D',c='r')\n",
    "plt.show()"
   ]
  },
  {
   "cell_type": "code",
   "execution_count": 20,
   "metadata": {},
   "outputs": [
    {
     "name": "stdout",
     "output_type": "stream",
     "text": [
      "predict   0   1   2\n",
      "labels             \n",
      "0        50   0   0\n",
      "1         0  12  38\n",
      "2         0  35  15\n"
     ]
    }
   ],
   "source": [
    "ct = pd.crosstab(data['labels'], r['predict'])\n",
    "print(ct)"
   ]
  },
  {
   "cell_type": "code",
   "execution_count": 25,
   "metadata": {},
   "outputs": [
    {
     "name": "stdout",
     "output_type": "stream",
     "text": [
      "predict   0   1   2\n",
      "labels             \n",
      "0         0   1  49\n",
      "1        13  36   1\n",
      "2        31  19   0\n"
     ]
    }
   ],
   "source": [
    "from sklearn.pipeline import make_pipeline\n",
    "from sklearn.preprocessing import StandardScaler\n",
    "\n",
    "scaler = StandardScaler()\n",
    "model = KMeans(n_clusters=3)\n",
    "pipeline = make_pipeline(scaler, model)\n",
    "pipeline.fit(feature)\n",
    "predict = pd.DataFrame(pipeline.predict(feature))\n",
    "predict.columns=['predict']\n",
    "\n",
    "r = pd.concat([feature, predict], axis=1)\n",
    "\n",
    "ct = pd.crosstab(data['labels'], r['predict'])\n",
    "print(ct)"
   ]
  },
  {
   "cell_type": "code",
   "execution_count": 26,
   "metadata": {},
   "outputs": [
    {
     "data": {
      "image/png": "[encoded data removed]",
      "text/plain": [
       "<matplotlib.figure.Figure at 0x18f4a751b38>"
      ]
     },
     "metadata": {},
     "output_type": "display_data"
    }
   ],
   "source": [
    "plt.subplot(1,2,1)\n",
    "plt.hist(data['Sepal length'])\n",
    "plt.title('Sepal length')\n",
    "plt.subplot(1,2,2)\n",
    "plt.hist(data['Sepal width'])\n",
    "plt.title('Sepal width')\n",
    "plt.show()"
   ]
  },
  {
   "cell_type": "code",
   "execution_count": 28,
   "metadata": {},
   "outputs": [
    {
     "data": {
      "image/png": "[encoded data removed]",
      "text/plain": [
       "<matplotlib.figure.Figure at 0x18f4a9b05c0>"
      ]
     },
     "metadata": {},
     "output_type": "display_data"
    }
   ],
   "source": [
    "ks = range(1,10)\n",
    "inertias = []\n",
    "\n",
    "for k in ks:\n",
    "    model = KMeans(n_clusters=k)\n",
    "    model.fit(feature)\n",
    "    inertias.append(model.inertia_)\n",
    "    \n",
    "plt.plot(ks, inertias, '-o')\n",
    "plt.xlabel('number of clusters, k')\n",
    "plt.ylabel('inertia')\n",
    "plt.xticks(ks)\n",
    "plt.show()"
   ]
  },
  {
   "cell_type": "code",
   "execution_count": null,
   "metadata": {
    "collapsed": true
   },
   "outputs": [],
   "source": []
  }
 ],
 "metadata": {
  "kernelspec": {
   "display_name": "Python 3",
   "language": "python",
   "name": "python3"
  },
  "language_info": {
   "codemirror_mode": {
    "name": "ipython",
    "version": 3
   },
   "file_extension": ".py",
   "mimetype": "text/x-python",
   "name": "python",
   "nbconvert_exporter": "python",
   "pygments_lexer": "ipython3",
   "version": "3.6.1"
  }
 },
 "nbformat": 4,
 "nbformat_minor": 2
}
