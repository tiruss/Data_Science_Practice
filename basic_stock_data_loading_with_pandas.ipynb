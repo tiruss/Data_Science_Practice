{
 "cells": [
  {
   "cell_type": "code",
   "execution_count": 1,
   "metadata": {
    "collapsed": true
   },
   "outputs": [],
   "source": [
    "from pandas_datareader import data\n",
    "import matplotlib.pyplot as plt\n",
    "import pandas as pd"
   ]
  },
  {
   "cell_type": "code",
   "execution_count": 18,
   "metadata": {},
   "outputs": [
    {
     "data": {
      "text/html": [
       "<div>\n",
       "<style>\n",
       "    .dataframe thead tr:only-child th {\n",
       "        text-align: right;\n",
       "    }\n",
       "\n",
       "    .dataframe thead th {\n",
       "        text-align: left;\n",
       "    }\n",
       "\n",
       "    .dataframe tbody tr th {\n",
       "        vertical-align: top;\n",
       "    }\n",
       "</style>\n",
       "<table border=\"1\" class=\"dataframe\">\n",
       "  <thead>\n",
       "    <tr style=\"text-align: right;\">\n",
       "      <th></th>\n",
       "      <th>AAPL</th>\n",
       "      <th>MSFT</th>\n",
       "      <th>SPY</th>\n",
       "    </tr>\n",
       "  </thead>\n",
       "  <tbody>\n",
       "    <tr>\n",
       "      <th>2016-10-07</th>\n",
       "      <td>114.06</td>\n",
       "      <td>57.80</td>\n",
       "      <td>215.04</td>\n",
       "    </tr>\n",
       "    <tr>\n",
       "      <th>2016-10-10</th>\n",
       "      <td>116.05</td>\n",
       "      <td>58.04</td>\n",
       "      <td>216.16</td>\n",
       "    </tr>\n",
       "    <tr>\n",
       "      <th>2016-10-11</th>\n",
       "      <td>116.30</td>\n",
       "      <td>57.19</td>\n",
       "      <td>213.43</td>\n",
       "    </tr>\n",
       "    <tr>\n",
       "      <th>2016-10-12</th>\n",
       "      <td>117.34</td>\n",
       "      <td>57.11</td>\n",
       "      <td>213.71</td>\n",
       "    </tr>\n",
       "    <tr>\n",
       "      <th>2016-10-13</th>\n",
       "      <td>116.98</td>\n",
       "      <td>56.92</td>\n",
       "      <td>213.01</td>\n",
       "    </tr>\n",
       "    <tr>\n",
       "      <th>2016-10-14</th>\n",
       "      <td>117.63</td>\n",
       "      <td>57.42</td>\n",
       "      <td>213.12</td>\n",
       "    </tr>\n",
       "    <tr>\n",
       "      <th>2016-10-17</th>\n",
       "      <td>117.55</td>\n",
       "      <td>57.22</td>\n",
       "      <td>212.38</td>\n",
       "    </tr>\n",
       "    <tr>\n",
       "      <th>2016-10-18</th>\n",
       "      <td>117.47</td>\n",
       "      <td>57.66</td>\n",
       "      <td>213.71</td>\n",
       "    </tr>\n",
       "    <tr>\n",
       "      <th>2016-10-19</th>\n",
       "      <td>117.12</td>\n",
       "      <td>57.53</td>\n",
       "      <td>214.28</td>\n",
       "    </tr>\n",
       "    <tr>\n",
       "      <th>2016-10-20</th>\n",
       "      <td>117.06</td>\n",
       "      <td>57.25</td>\n",
       "      <td>213.88</td>\n",
       "    </tr>\n",
       "  </tbody>\n",
       "</table>\n",
       "</div>"
      ],
      "text/plain": [
       "              AAPL   MSFT     SPY\n",
       "2016-10-07  114.06  57.80  215.04\n",
       "2016-10-10  116.05  58.04  216.16\n",
       "2016-10-11  116.30  57.19  213.43\n",
       "2016-10-12  117.34  57.11  213.71\n",
       "2016-10-13  116.98  56.92  213.01\n",
       "2016-10-14  117.63  57.42  213.12\n",
       "2016-10-17  117.55  57.22  212.38\n",
       "2016-10-18  117.47  57.66  213.71\n",
       "2016-10-19  117.12  57.53  214.28\n",
       "2016-10-20  117.06  57.25  213.88"
      ]
     },
     "execution_count": 18,
     "metadata": {},
     "output_type": "execute_result"
    }
   ],
   "source": [
    "# Define the instruments to download. We would like to see Apple, Microsoft and the S&P500 index.\n",
    "tickers = ['AAPL', 'MSFT', 'SPY']\n",
    "\n",
    "# Define which online source one should use\n",
    "data_source = 'google'\n",
    "\n",
    "# We would like all available data from 01/01/2000 until 9/30/2017.\n",
    "start_date = '2016-10-07'\n",
    "end_date = '2017-09-30'\n",
    "\n",
    "# User pandas_reader.data.DataReader to load the desired data. As simple as that.\n",
    "panel_data = data.DataReader(tickers, data_source, start_date, end_date)\n",
    "\n",
    "# Getting just the adjusted closing prices. This will return a Pandas DataFrame\n",
    "# The index in this DataFrame is the major index of the panel_data.\n",
    "close = panel_data.loc['Close']\n",
    "\n",
    "# Getting all weekdays bewwen 10/07/2016 and 09/30/2017\n",
    "all_weekdays = pd.date_range(start=start_date, end=end_date, freq='B')\n",
    "\n",
    "# How do we align the existing prices in adj_close with our new set of dates?\n",
    "# All we need to do is reindex close using all_weekdays as the new index\n",
    "close = close.reindex(all_weekdays)\n",
    "\n",
    "close.head(10)\n"
   ]
  },
  {
   "cell_type": "code",
   "execution_count": 29,
   "metadata": {},
   "outputs": [
    {
     "data": {
      "image/png": "[encoded data removed]",
      "text/plain": [
       "<matplotlib.figure.Figure at 0x190982bd4a8>"
      ]
     },
     "metadata": {},
     "output_type": "display_data"
    }
   ],
   "source": [
    "aapl = close.loc[:, 'AAPL']\n",
    "\n",
    "# Calculate the 20 and 100 days moving averages of the closing prices\n",
    "short_rolling_aapl = aapl.rolling(window=20).mean()\n",
    "long_rolling_aapl = aapl.rolling(window=30).mean()\n",
    "\n",
    "# Plot everything by leveraging the very powerful matplotlib package\n",
    "_ = plt.plot(aapl, label='AAPL')\n",
    "_ = plt.plot(short_rolling_aapl, label='20 days rolling')\n",
    "_ = plt.plot(long_rolling_aapl, label='100 days rolling')\n",
    "_ = plt.xlabel('Date')\n",
    "_ = plt.ylabel('Closing price ($)')\n",
    "_ = plt.legend()\n",
    "_ = plt.show()"
   ]
  },
  {
   "cell_type": "code",
   "execution_count": null,
   "metadata": {
    "collapsed": true
   },
   "outputs": [],
   "source": []
  }
 ],
 "metadata": {
  "kernelspec": {
   "display_name": "Python 3",
   "language": "python",
   "name": "python3"
  },
  "language_info": {
   "codemirror_mode": {
    "name": "ipython",
    "version": 3
   },
   "file_extension": ".py",
   "mimetype": "text/x-python",
   "name": "python",
   "nbconvert_exporter": "python",
   "pygments_lexer": "ipython3",
   "version": "3.6.1"
  }
 },
 "nbformat": 4,
 "nbformat_minor": 2
}
